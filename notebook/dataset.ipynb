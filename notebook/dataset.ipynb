{
 "cells": [
  {
   "cell_type": "markdown",
   "id": "63615fcc-15de-4043-a0e3-9b084dc0d8a3",
   "metadata": {},
   "source": [
    "# Sentiment Analysis"
   ]
  },
  {
   "cell_type": "code",
   "execution_count": 1,
   "id": "f9f602c1-7a6e-4365-8126-416365351fe9",
   "metadata": {},
   "outputs": [],
   "source": [
    "import numpy as np\n"
   ]
  },
  {
   "cell_type": "code",
   "execution_count": 2,
   "id": "54a4ff80-635a-413a-9aca-ffcdbb1c3100",
   "metadata": {},
   "outputs": [],
   "source": [
    "import json\n",
    "with open('../artifacts/kaggle.json','r') as file:\n",
    "    data = json.load(file)\n"
   ]
  },
  {
   "cell_type": "code",
   "execution_count": 3,
   "id": "4f48a48e-cc78-4594-9543-576977d70fca",
   "metadata": {},
   "outputs": [
    {
     "data": {
      "text/plain": [
       "{'username': 'charukalakmal', 'key': '57eae86d81dde8d34c5b7afeccd8bae7'}"
      ]
     },
     "execution_count": 3,
     "metadata": {},
     "output_type": "execute_result"
    }
   ],
   "source": [
    "data"
   ]
  },
  {
   "cell_type": "code",
   "execution_count": 4,
   "id": "565b605d-7ae4-47a9-8efb-2c984f02d57b",
   "metadata": {},
   "outputs": [
    {
     "name": "stdout",
     "output_type": "stream",
     "text": [
      "Collecting kaggle"
     ]
    },
    {
     "name": "stderr",
     "output_type": "stream",
     "text": [
      "\n",
      "[notice] A new release of pip is available: 23.0.1 -> 24.2\n",
      "[notice] To update, run: python.exe -m pip install --upgrade pip\n"
     ]
    },
    {
     "name": "stdout",
     "output_type": "stream",
     "text": [
      "\n",
      "  Using cached kaggle-1.6.17-py3-none-any.whl\n",
      "Requirement already satisfied: requests in d:\\test_project\\sentiment_analysis\\.venv\\lib\\site-packages (from kaggle) (2.32.3)\n",
      "Requirement already satisfied: bleach in d:\\test_project\\sentiment_analysis\\.venv\\lib\\site-packages (from kaggle) (6.1.0)\n",
      "Requirement already satisfied: urllib3 in d:\\test_project\\sentiment_analysis\\.venv\\lib\\site-packages (from kaggle) (2.2.3)\n",
      "Requirement already satisfied: certifi>=2023.7.22 in d:\\test_project\\sentiment_analysis\\.venv\\lib\\site-packages (from kaggle) (2024.8.30)\n",
      "Collecting tqdm\n",
      "  Downloading tqdm-4.66.5-py3-none-any.whl (78 kB)\n",
      "     ---------------------------------------- 0.0/78.4 kB ? eta -:--:--\n",
      "     ---------------------------------------- 0.0/78.4 kB ? eta -:--:--\n",
      "     ----- ---------------------------------- 10.2/78.4 kB ? eta -:--:--\n",
      "     ----- ---------------------------------- 10.2/78.4 kB ? eta -:--:--\n",
      "     ----- ---------------------------------- 10.2/78.4 kB ? eta -:--:--\n",
      "     ----- ---------------------------------- 10.2/78.4 kB ? eta -:--:--\n",
      "     ----- ---------------------------------- 10.2/78.4 kB ? eta -:--:--\n",
      "     --------------- ----------------------- 30.7/78.4 kB 87.1 kB/s eta 0:00:01\n",
      "     --------------- ----------------------- 30.7/78.4 kB 87.1 kB/s eta 0:00:01\n",
      "     --------------- ----------------------- 30.7/78.4 kB 87.1 kB/s eta 0:00:01\n",
      "     --------------- ----------------------- 30.7/78.4 kB 87.1 kB/s eta 0:00:01\n",
      "     --------------- ----------------------- 30.7/78.4 kB 87.1 kB/s eta 0:00:01\n",
      "     -------------------- ------------------ 41.0/78.4 kB 65.5 kB/s eta 0:00:01\n",
      "     -------------------- ------------------ 41.0/78.4 kB 65.5 kB/s eta 0:00:01\n",
      "     -------------------- ------------------ 41.0/78.4 kB 65.5 kB/s eta 0:00:01\n",
      "     -------------------- ------------------ 41.0/78.4 kB 65.5 kB/s eta 0:00:01\n",
      "     -------------------- ------------------ 41.0/78.4 kB 65.5 kB/s eta 0:00:01\n",
      "     --------------------------------------- 78.4/78.4 kB 99.0 kB/s eta 0:00:00\n",
      "Requirement already satisfied: python-dateutil in d:\\test_project\\sentiment_analysis\\.venv\\lib\\site-packages (from kaggle) (2.9.0.post0)\n",
      "Collecting python-slugify\n",
      "  Downloading python_slugify-8.0.4-py2.py3-none-any.whl (10 kB)\n",
      "Requirement already satisfied: six>=1.10 in d:\\test_project\\sentiment_analysis\\.venv\\lib\\site-packages (from kaggle) (1.16.0)\n",
      "Requirement already satisfied: webencodings in d:\\test_project\\sentiment_analysis\\.venv\\lib\\site-packages (from bleach->kaggle) (0.5.1)\n",
      "Collecting text-unidecode>=1.3\n",
      "  Downloading text_unidecode-1.3-py2.py3-none-any.whl (78 kB)\n",
      "     ---------------------------------------- 0.0/78.2 kB ? eta -:--:--\n",
      "     ---------------------------------------- 0.0/78.2 kB ? eta -:--:--\n",
      "     ---------------------------------------- 78.2/78.2 kB ? eta 0:00:00\n",
      "Requirement already satisfied: charset-normalizer<4,>=2 in d:\\test_project\\sentiment_analysis\\.venv\\lib\\site-packages (from requests->kaggle) (3.3.2)\n",
      "Requirement already satisfied: idna<4,>=2.5 in d:\\test_project\\sentiment_analysis\\.venv\\lib\\site-packages (from requests->kaggle) (3.10)\n",
      "Requirement already satisfied: colorama in d:\\test_project\\sentiment_analysis\\.venv\\lib\\site-packages (from tqdm->kaggle) (0.4.6)\n",
      "Installing collected packages: text-unidecode, tqdm, python-slugify, kaggle\n",
      "Successfully installed kaggle-1.6.17 python-slugify-8.0.4 text-unidecode-1.3 tqdm-4.66.5\n"
     ]
    }
   ],
   "source": [
    "!pip install kaggle"
   ]
  },
  {
   "cell_type": "code",
   "execution_count": 5,
   "id": "0a4f4a24-2212-4f93-ae1b-b8ffed8944b7",
   "metadata": {},
   "outputs": [],
   "source": [
    "import os\n",
    "os.environ['KAGGLE_USERNAME'] = data['username']\n",
    "os.environ['KAGGLE_KEY'] = data['key']"
   ]
  },
  {
   "cell_type": "code",
   "execution_count": 6,
   "id": "6b142bba-947a-40ba-a30b-789e63d99c75",
   "metadata": {},
   "outputs": [],
   "source": [
    "from kaggle.api.kaggle_api_extended import KaggleApi\n",
    "api = KaggleApi()\n",
    "api.authenticate()\n"
   ]
  },
  {
   "cell_type": "code",
   "execution_count": 8,
   "id": "a1303095-5597-4c5c-b358-6263e2071fe8",
   "metadata": {},
   "outputs": [
    {
     "name": "stdout",
     "output_type": "stream",
     "text": [
      "Dataset URL: https://www.kaggle.com/datasets/dineshpiyasamara/sentiment-analysis-dataset\n"
     ]
    }
   ],
   "source": [
    "api.dataset_download_files('dineshpiyasamara/sentiment-analysis-dataset', path='../artifacts/')"
   ]
  },
  {
   "cell_type": "code",
   "execution_count": 9,
   "id": "5a373306-b28a-4efa-96c4-4581352c44f9",
   "metadata": {},
   "outputs": [],
   "source": [
    "import zipfile\n",
    "with zipfile.ZipFile('../artifacts/sentiment-analysis-dataset.zip','r') as zip_ref:\n",
    "    zip_ref.extractall('../artifacts/')"
   ]
  },
  {
   "cell_type": "code",
   "execution_count": null,
   "id": "b70a82ed-e17e-471d-a299-9309e51d6239",
   "metadata": {},
   "outputs": [],
   "source": []
  }
 ],
 "metadata": {
  "kernelspec": {
   "display_name": "Python 3 (ipykernel)",
   "language": "python",
   "name": "python3"
  },
  "language_info": {
   "codemirror_mode": {
    "name": "ipython",
    "version": 3
   },
   "file_extension": ".py",
   "mimetype": "text/x-python",
   "name": "python",
   "nbconvert_exporter": "python",
   "pygments_lexer": "ipython3",
   "version": "3.10.11"
  }
 },
 "nbformat": 4,
 "nbformat_minor": 5
}
